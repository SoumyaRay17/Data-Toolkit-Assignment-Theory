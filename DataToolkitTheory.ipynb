{
  "nbformat": 4,
  "nbformat_minor": 0,
  "metadata": {
    "colab": {
      "provenance": []
    },
    "kernelspec": {
      "name": "python3",
      "display_name": "Python 3"
    },
    "language_info": {
      "name": "python"
    }
  },
  "cells": [
    {
      "cell_type": "markdown",
      "source": [
        "### **01.What is NumPy, and why is it widely used in Python ?**\n",
        "\n",
        "NumPy, short for Numerical Python, is a fundamental library for numerical and scientific computing in Python. It provides support for multi-dimensional arrays and matrices, along with a collection of mathematical functions to operate on these arrays. NumPy was created in 2005 by Travis Oliphant, building upon earlier work with the Numeric library.\n",
        "\n",
        "Businesses, academic bodies, and others are leveraging machine learning, data science, scientific computing, and other data-related processes to understand data properly. One popular tool for powering data-related tasks is NumPy, a mathematical Python library.\n",
        "\n",
        "NumPy is widely used due to several key advantages:\n",
        "\n",
        "1.Efficiency\n",
        "2.Functionality\n",
        "3.Integration\n",
        "4.Memory Efficiency\n",
        "5.Broadcasting\n",
        "\n",
        "NumPy is an open source mathematical and scientific computing library for Python programming tasks."
      ],
      "metadata": {
        "id": "0bUxpHRE9HTZ"
      }
    },
    {
      "cell_type": "markdown",
      "source": [
        "### **02.How does broadcasting work in NumPy?**\n",
        "\n",
        "The term broadcasting describes how NumPy treats arrays with different shapes during arithmetic operations. Subject to certain constraints, the smaller array is “broadcast” across the larger array so that they have compatible shapes.\n",
        "\n",
        "Broadcasting applies specific rules to determine whether two arrays can be aligned for operations:\n",
        "\n",
        "1.Check Dimensions: Ensure the arrays have the same number of dimensions or expandable dimensions.\n",
        "\n",
        "2.Dimension Padding: If arrays have different numbers of dimensions, the smaller array is left-padded with ones.\n",
        "\n",
        "3.Shape Compatibility: Two dimensions are compatible if:\n",
        "\n",
        "*They are equal, or\n",
        "\n",
        "*One of them is 1.\n",
        "\n",
        "If these conditions are not met, a ValueError is raised."
      ],
      "metadata": {
        "id": "AACsUJQK-zkg"
      }
    },
    {
      "cell_type": "markdown",
      "source": [
        "### **03.What is a Pandas DataFrame?**\n",
        "\n",
        "A Pandas DataFrame is a two-dimensional, size-mutable data structure with labeled rows and columns. It is a fundamental data structure in the Pandas library, widely used for data manipulation and analysis in Python. It can be thought of as a table, similar to a spreadsheet or SQL table, where each column can have a different data type. DataFrames are designed to handle and process structured data efficiently.\n",
        "\n",
        "\n",
        "DataFrames consist of three main components:\n",
        "\n",
        "Data: The actual values stored in rows and columns.\n",
        "\n",
        "Index: Labels for the rows, allowing for easy access and manipulation of data.\n",
        "\n",
        "Columns: Labels for the columns, providing a way to identify and work with specific data fields."
      ],
      "metadata": {
        "id": "OX_x-n_YALak"
      }
    },
    {
      "cell_type": "markdown",
      "source": [
        "### **04.Explain the use of the groupby() method in Pandas?**\n",
        "\n",
        "\n",
        " The groupby() method is a powerful tool used to split a DataFrame into groups based on one or more columns, allowing for efficient data analysis and aggregation. It follows a “split-apply-combine” strategy, where data is divided into groups, a function is applied to each group, and the results are combined into a new DataFrame.\n",
        "\n",
        " For example, if you have a dataset of sales transactions, you can use groupby() to group the data by product category and calculate the total sales for each category.\n",
        "\n",
        "It follows the \"split-apply-combine\" strategy:\n",
        "\n",
        "Split: The DataFrame is split into groups based on the unique values in the specified column(s).\n",
        "\n",
        "Apply: A function is applied to each group independently. This can be an aggregation function (e.g., sum(), mean(), count()), a transformation function, or a filtering operation.\n",
        "\n",
        "Combine: The results from each group are combined into a new DataFrame or Series.\n"
      ],
      "metadata": {
        "id": "X8MHD962AyOY"
      }
    },
    {
      "cell_type": "markdown",
      "source": [
        "### **05.Why is Seaborn preferred for statistical visualizations?**\n",
        "\n",
        "Seaborn is a Python data visualization library that simplifies the process of creating complex visualizations. It is specifically designed for statistical data visualization making it easier to understand data distributions and relationships between them. It is built on the top of matplotlib library and closely integrate with data structures from pandas.\n",
        "\n",
        "Key Features of Seaborn:\n",
        "\n",
        "High-level interface: Simplifies the creation of complex visualizations.\n",
        "\n",
        "Integration with Pandas: Works with Pandas DataFrames for data manipulation.\n",
        "\n",
        "Built-in themes: Offers attractive default themes and color palettes.\n",
        "\n",
        "Statistical plots: Provides various plot types to visualize statistical relationships and distributions."
      ],
      "metadata": {
        "id": "kgASZIFlB9OZ"
      }
    },
    {
      "cell_type": "markdown",
      "source": [
        "### **06.What are the differences between NumPy arrays and Python lists?**\n",
        "\n",
        "\n",
        "The main difference is that NumPy arrays are much faster and have strict requirements on the homogeneity of the objects. For example, a NumPy array of strings can only contain strings and no other data types, but a Python list can contain a mixture of strings, numbers, booleans and other objects.\n",
        "\n",
        "Here is a comparison of NumPy arrays and Python lists:\n",
        "\n",
        "Data Type:\n",
        "Python lists can store elements of different data types, while NumPy arrays store elements of the same data type.\n",
        "\n",
        "Memory Efficiency:\n",
        "NumPy arrays are more memory-efficient than Python lists, especially for large datasets, because they store data in a contiguous block of memory.\n",
        "\n",
        "Performance:\n",
        "NumPy arrays are significantly faster than Python lists for numerical computations due to vectorized operations and optimized C implementation.\n",
        "\n",
        "Functionality:\n",
        "NumPy provides a wide range of built-in functions for array manipulation, mathematical operations, and linear algebra, which are not available for Python lists.\n",
        "\n",
        "Size:\n",
        "NumPy arrays have a fixed size once created, while Python lists can dynamically grow or shrink."
      ],
      "metadata": {
        "id": "BPAE9vCwCkl0"
      }
    },
    {
      "cell_type": "markdown",
      "source": [
        "### **07.What is a heatmap, and when should it be used?**\n",
        "\n",
        "A heatmap is a data visualization technique that uses color to represent the magnitude of values in a two-dimensional grid. It's a way to visualize complex data by using different colors or shades to represent different values, making it easy to spot patterns and trends. Heatmaps are commonly used to analyze user behavior on websites, identify areas of high engagement, and improve website design.\n",
        "\n",
        "When to use heatmaps:\n",
        "\n",
        "Analyzing user behavior on websites:\n",
        "\n",
        "Optimizing website design:\n",
        "\n",
        "Understanding user engagement:\n",
        "\n",
        "Visualizing data patterns:\n",
        "\n",
        "Monitoring performance:\n",
        "\n",
        "Analyzing crime data:\n",
        "\n",
        "Mapping population density:\n"
      ],
      "metadata": {
        "id": "c9jdrvxXDLZu"
      }
    },
    {
      "cell_type": "markdown",
      "source": [
        "### **08.What does the term “vectorized operation” mean in NumPy?**\n",
        "\n",
        "\n",
        "'Vectorization operation' in NumPy is a method of performing operations on entire arrays without explicit loops. This approach leverages NumPy's underlying C implementation for faster and more efficient computations. By replacing iterative processes with vectorized functions, you can significantly optimize performance in data analysis, machine learning, and scientific computing tasks."
      ],
      "metadata": {
        "id": "bmGvCN2UEC9V"
      }
    },
    {
      "cell_type": "markdown",
      "source": [
        "### **09.How does Matplotlib differ from Plotly?**\n",
        "\n",
        "Matplotlib: Is often preferred for academic or highly customized plots because you can fine-tune just about any aspect of the figure—fonts, margins, axis scales, etc. Plotly: While still highly customizable, Plotly's real strength lies in interactivity and web-based visuals.\n",
        "\n",
        "Pyplot is an API (Application Programming Interface) for Python's matplotlib that effectively makes matplotlib a viable open source alternative to MATLAB. Matplotlib is a library for data visualization, typically in the form of plots, graphs and charts."
      ],
      "metadata": {
        "id": "gBrgYfkYEuTW"
      }
    },
    {
      "cell_type": "markdown",
      "source": [
        "### **10.What is the significance of hierarchical indexing in Pandas?**\n",
        "\n",
        "Hierarchical indexing, also known as MultiIndex, is a feature in Pandas that allows for multiple levels of indexing within a DataFrame or Series.\n",
        "\n",
        " It is significant for several reasons:\n",
        "\n",
        "Representation of high-dimensional data:\n",
        "\n",
        "Enhanced data organization and clarity:\n",
        "\n",
        "Efficient data selection and manipulation:\n",
        "\n",
        "Simplified data aggregation and grouping:\n",
        "\n",
        "Improved performance:\n",
        "\n",
        "\n",
        "For instance, consider a dataset tracking sales data across different regions and years. Using hierarchical indexing, one can index the data by both region and year, allowing for easy retrieval of sales figures for a specific region in a particular year, or for all regions across all years. This multi-level structure provides a more intuitive and efficient way to access and analyze the data compared to using a single-level index."
      ],
      "metadata": {
        "id": "dqA7mOU1FO1D"
      }
    },
    {
      "cell_type": "markdown",
      "source": [
        "### **11.What is the role of Seaborn's pairplot() function?**\n",
        "\n",
        "The pairplot() function in the Seaborn library serves to visualize pairwise relationships between multiple variables in a dataset. It generates a matrix of subplots, where each subplot shows the relationship between two different variables. Diagonal subplots typically display the distribution of a single variable, while off-diagonal subplots show the relationship between two variables using scatter plots.\n",
        "\n",
        "This function is particularly useful in exploratory data analysis (EDA) for identifying patterns, correlations, and potential relationships between variables. It helps in understanding the structure of the data and can guide further analysis or modeling. Customization options, such as the hue parameter for categorical differentiation and diag_kind for the type of diagonal plots, enhance its versatility.\n",
        "\n"
      ],
      "metadata": {
        "id": "0RqqkxBKFuF8"
      }
    },
    {
      "cell_type": "markdown",
      "source": [
        "### **12.What is the purpose of the describe() function in Pandas?**\n",
        "\n",
        "The describe() function in Pandas serves to generate descriptive statistics of a DataFrame or Series. It provides a concise summary of the central tendency, dispersion, and shape of the data distribution, excluding NaN values. For numerical data, the output includes count, mean, standard deviation, minimum, maximum, and percentiles (25th, 50th/median, 75th).\n",
        "\n",
        " For categorical data, it provides count, number of unique values, the most frequent value (top), and its frequency. The function is useful for preliminary data exploration, offering insights into data distribution and potential outliers. It can be applied to the entire DataFrame or specific columns, and the output can be customized to include or exclude certain data types."
      ],
      "metadata": {
        "id": "shpUgb5cGAFB"
      }
    },
    {
      "cell_type": "markdown",
      "source": [
        "### **13.Why is handling missing data important in Pandas?**\n",
        "\n",
        "\n",
        "Missing data can reduce the statistical power of a study and can produce biased estimates, leading to invalid conclusions. This manuscript reviews the problems and types of missing data, along with the techniques for handling missing data.\n",
        "\n",
        "Handling missing data in Pandas is important for several reasons:\n",
        "\n",
        "Prevents errors:\n",
        "\n",
        "Avoids biased analysis:\n",
        "\n",
        "Maintains data integrity:\n",
        "\n",
        "Improves model performance:\n",
        "\n",
        "Enhances data visualization:\n"
      ],
      "metadata": {
        "id": "O_35bV-CGM2C"
      }
    },
    {
      "cell_type": "markdown",
      "source": [
        "### **14.What are the benefits of using Plotly for data visualization?**\n",
        "\n",
        "\n",
        "Plotly is an open-source Python library for creating interactive visualizations like line charts, scatter plots, bar charts and more.\n",
        "\n",
        "Pyolty is a Python library that helps you create interactive and visually appealing charts and graphs. It allows you to display data in a way that's easy to explore and understand, such as by zooming in, hovering over data points for more details, and clicking to get deeper insights Plotly uses JavaScript to handle interactivity, but you don't need to worry about that when using it in Python. You simply write Python code to create the charts, and Plotly takes care of making them interactive.\n",
        "\n"
      ],
      "metadata": {
        "id": "EmJ-W0-8G2dm"
      }
    },
    {
      "cell_type": "markdown",
      "source": [
        "### **15.How does NumPy handle multidimensional arrays?**\n",
        "\n",
        "NumPy handles multidimensional arrays, also known as ndarrays, as a grid of values, all of the same type, and indexed by a tuple of non-negative integers. The dimensions are called axes, and the number of axes is the rank. The shape of an array is a tuple of integers giving the size of the array along each dimension.\n",
        "\n",
        "Internally, NumPy stores the data of an ndarray in a contiguous block of memory. This allows for efficient computation, especially when performing operations on large arrays. NumPy uses strides to map from an index tuple to a location in the memory block. The strides array indicates how many bytes need to be stepped in each dimension when traversing the array.\n",
        "\n",
        "NumPy offers a variety of ways to create and manipulate multidimensional arrays, including: Creating arrays from lists or tuples, Reshaping arrays, Slicing and indexing arrays, Performing mathematical operations on arrays, and Transposing arrays."
      ],
      "metadata": {
        "id": "bRo2KcycYL2Y"
      }
    },
    {
      "cell_type": "markdown",
      "source": [
        "### **16.What is the role of Bokeh in data visualization?**\n",
        "\n",
        "Bokeh is a Python library primarily used for creating interactive data visualizations, especially those targeting modern web browsers. It's distinguished by its ability to render plots using HTML and JavaScript, enabling dynamic and engaging visualizations. Bokeh is well-suited for building web-based dashboards, applications, and exploring data interactively.\n",
        "\n",
        "Here's are the roles of Bokeh in data visualization :\n",
        "\n",
        "Interactive Visualizations:\n",
        "\n",
        "Web-Based Applications:\n",
        "\n",
        "High-Performance:\n",
        "\n",
        "Customizable and Flexible:\n",
        "\n",
        "Integration with PyData Tools:\n",
        "\n",
        "Shareability:\n"
      ],
      "metadata": {
        "id": "v7PvsmbyYjkL"
      }
    },
    {
      "cell_type": "markdown",
      "source": [
        "### **17.Explain the difference between apply() and map() in Pandas?**\n",
        "\n",
        "map() and apply() in Pandas serve different purposes and operate at different levels.\n",
        "\n",
        "map():\n",
        "\n",
        "*Works on a single Pandas Series.\n",
        "\n",
        "*Applies an element-wise transformation using a function,    dictionary, or Series.\n",
        "\n",
        "*Useful for substituting values or applying simple calculations to each element in a Series.\n",
        "\n",
        "*Returns a new Series with the transformed values.\n",
        "\n",
        "apply():\n",
        "\n",
        "*Can be used on both Pandas Series and DataFrames.\n",
        "\n",
        "*Applies a function along an axis of the DataFrame (rows or columns) or to each element of a Series.\n",
        "\n",
        "*More versatile than map() and can handle complex operations, including those that involve multiple columns or rows.\n",
        "\n",
        "*Returns a Series or DataFrame depending on the input and the function applied.\n",
        "\n",
        "In essence, map() is for element-wise transformations on a Series, while apply() is for more general operations on Series or DataFrames, allowing for both element-wise and axis-wise processing."
      ],
      "metadata": {
        "id": "Crs39kqGZgPJ"
      }
    },
    {
      "cell_type": "markdown",
      "source": [
        "### **18.What are some advanced features of NumPy?**\n",
        "\n",
        "NumPy offers several advanced features beyond basic array manipulation, including universal functions (ufuncs), broadcasting, masking, fancy indexing, array sorting, and stacking/splitting. These features enable efficient and versatile operations on NumPy arrays.\n",
        "\n",
        "1. Universal Functions (ufuncs):\n",
        "Ufuncs are functions that operate on arrays element-wise, providing a way to execute mathematical, logical, and other operations efficiently.\n",
        "They support a wide range of arithmetic operations (addition, subtraction, multiplication, division, etc.) and other mathematical functions.\n",
        "Example: np.add(a, b) adds two arrays element-wise.\n",
        "\n",
        "2. Broadcasting:\n",
        "Broadcasting allows NumPy to perform operations on arrays of different shapes, automatically aligning dimensions without creating new arrays.\n",
        "It provides a way to vectorize array operations, avoiding explicit loops and improving performance.\n",
        "Example: Adding a scalar to an array, where the scalar is \"broadcast\" to each element of the array.\n",
        "3. Masking:\n",
        "Masking involves creating a boolean array (mask) to select specific elements of an array for operations or analysis.\n",
        "Elements corresponding to True values in the mask are selected, while those corresponding to False are ignored.\n",
        "Example: Selecting all elements greater than a certain threshold.\n",
        "\n",
        "4. Fancy Indexing:\n",
        "Fancy indexing allows you to access array elements using a list or array of indices.\n",
        "This provides flexible ways to select and manipulate specific elements or subsets of the array.\n",
        "Example: Accessing elements at specific indices from a list of indices.\n",
        "\n",
        "5. Array Sorting:\n",
        "NumPy offers various sorting functions, including np.sort(), which returns a sorted copy of the array, and np.argsort(), which returns the indices that would sort the array.\n",
        "These functions can be used to sort arrays in ascending or descending order, or by specific attributes or columns.\n",
        "Example: Sorting an array in ascending order.\n",
        "\n",
        "6. Stacking and Splitting:\n",
        "Stacking:\n",
        "Combines multiple arrays along different axes to create a larger array.\n",
        "np.vstack() stacks arrays vertically (along the first axis).\n",
        "np.hstack() stacks arrays horizontally (along the second axis).\n",
        "Splitting:\n",
        "Divides an array into multiple sub-arrays along a specified axis.\n",
        "np.hsplit() splits an array along the horizontal axis.\n",
        "np.vsplit() splits an array along the vertical axis.\n",
        "\n"
      ],
      "metadata": {
        "id": "_8saDTiQa9es"
      }
    },
    {
      "cell_type": "markdown",
      "source": [
        "### **19.How does Pandas simplify time series analysis?**\n",
        "\n",
        "Pandas streamlines time series analysis through its specialized data structures and functions optimized for handling time-indexed data. Key features include:\n",
        "\n",
        "Datetime Indexing:\n",
        "Pandas allows the use of dates and times directly as indices in Series and DataFrames, enabling intuitive data selection and manipulation based on time.\n",
        "\n",
        "Time-based Data Selection:\n",
        "Specific time periods or ranges can be easily selected using string-based indexing with the .loc accessor.\n",
        "\n",
        "Resampling:\n",
        "Pandas simplifies aggregating data into different time frequencies (e.g., daily to monthly) using the resample() function, which is essential for analyzing trends at various scales.\n",
        "\n",
        "Shifting and Lagging:\n",
        "The shift() function facilitates creating lagged or leading copies of time series, crucial for calculating differences and analyzing temporal dependencies.\n",
        "\n",
        "Rolling Window Operations:\n",
        "Pandas enables the calculation of rolling statistics (e.g., moving averages) using rolling(), smoothing out noise and revealing underlying trends.\n",
        "\n",
        "Date and Time Conversion:\n",
        "\n",
        "Handling Missing Data:\n",
        "\n",
        "Period and Time Span Arithmetic:\n",
        "\n",
        "Visualization:\n",
        "\n",
        "By providing these functionalities, Pandas significantly reduces the complexity of time series analysis, making it more accessible and efficient."
      ],
      "metadata": {
        "id": "NY7dsKKQb0Oc"
      }
    },
    {
      "cell_type": "markdown",
      "source": [
        "### **20.What is the role of a pivot table in Pandas?**\n",
        "\n",
        "The role of a pivot table in Pandas, similar to its function in spreadsheet software, is to reshape and summarize data within a DataFrame. It enables users to transform data by rotating rows into columns and vice versa, aggregating values based on specified criteria. This functionality facilitates data analysis, trend identification, and the extraction of meaningful insights from complex datasets.\n",
        "\n",
        "Pivot tables are particularly useful for:\n",
        "\n",
        "Data Summarization:\n",
        "Aggregating large datasets into concise summaries, calculating statistics such as sums, averages, counts, or custom aggregations.\n",
        "\n",
        "Data Restructuring:\n",
        "Transforming data layout, making it easier to analyze from different perspectives by pivoting rows to columns or columns to rows.\n",
        "\n",
        "Trend Analysis:\n",
        "Identifying patterns and relationships within the data by grouping and summarizing information across different categories.\n",
        "\n",
        "Data Preparation:\n",
        "Preparing data for visualization or further analysis by organizing it into a more suitable format.\n",
        "\n",
        "Handling Missing Data:\n",
        "Providing options to handle missing values (NaN) through parameters like fill_value or dropna.\n",
        "\n",
        "In essence, the pivot table in Pandas is a powerful tool for data manipulation and exploration, allowing users to gain a deeper understanding of their data by restructuring and summarizing it in various ways."
      ],
      "metadata": {
        "id": "a6h-2BC2cYDd"
      }
    },
    {
      "cell_type": "markdown",
      "source": [
        "### **21.Why is NumPy’s array slicing faster than Python’s list slicing?**\n",
        "\n",
        "NumPy's array slicing is faster than Python's list slicing due to several key differences in how they are implemented:\n",
        "\n",
        "Contiguous Memory:\n",
        "\n",
        "NumPy arrays are stored in contiguous blocks of memory, meaning elements are located next to each other. This allows for efficient access and manipulation of data, as the processor can easily fetch elements in sequence. Python lists, on the other hand, store elements as references to objects scattered in memory, leading to slower access times.\n",
        "\n",
        "Homogeneous Data Types:\n",
        "\n",
        "NumPy arrays store elements of the same data type, which allows for optimized operations using compiled C code under the hood. Python lists can hold objects of different types, requiring more overhead for type checking and handling during operations.\n",
        "\n",
        "Optimized Operations:\n",
        "\n",
        "NumPy is specifically designed for numerical computations and provides optimized functions for array operations, including slicing. These functions are implemented in C, resulting in faster execution compared to equivalent operations on Python lists.\n",
        "\n",
        "View vs. Copy:\n",
        "\n",
        "NumPy slicing often returns a \"view\" of the original array, meaning it doesn't create a new copy of the data. This is much faster than Python list slicing, which always creates a new list object. However, it's important to note that modifying a view will affect the original array.\n",
        "\n",
        "In summary, NumPy's efficient memory layout, homogeneous data types, optimized operations, and view-based slicing contribute to its significant speed advantage over Python lists for array slicing."
      ],
      "metadata": {
        "id": "W2LWjfYmcyXg"
      }
    },
    {
      "cell_type": "markdown",
      "source": [
        "### **22.What are some common use cases for Seaborn?**\n",
        "\n",
        "Seaborn is a Python data visualization library built on top of Matplotlib, commonly used for creating informative and visually appealing statistical graphics.\n",
        "\n",
        "Here are some common use cases for Seaborn:\n",
        "\n",
        "i) Exploratory Data Analysis (EDA):\n",
        "\n",
        "Seaborn facilitates the exploration of datasets through various plot types, including:\n",
        "\n",
        "*Histograms and distribution plots for understanding data distribution.\n",
        "\n",
        "*Scatter plots for visualizing relationships between two variables.\n",
        "\n",
        "*Pair plots for exploring relationships between multiple variables.\n",
        "\n",
        "*Box plots and violin plots for comparing distributions across categories.\n",
        "\n",
        "\n",
        "ii) Statistical Analysis:\n",
        "\n",
        "Seaborn offers tools for visualizing statistical relationships and patterns:\n",
        "\n",
        "*Regression plots for identifying correlations and fitting regression models.\n",
        "\n",
        "*Heatmaps for displaying matrix-like data and correlations between variables.\n",
        "\n",
        "iii) Categorical Data Visualization:\n",
        "\n",
        "Seaborn provides specialized plots for categorical data:\n",
        "\n",
        "*Bar plots and count plots for comparing frequencies across categories.\n",
        "\n",
        "*Box plots, violin plots, swarm plots and strip plots for visualizing distributions within categories.\n",
        "\n",
        "iv) Machine Learning:\n",
        "\n",
        "Seaborn can be used to visualize aspects of machine learning workflows:\n",
        "\n",
        "*Visualizing model performance using confusion matrices and ROC curves.\n",
        "\n",
        "v) Data Storytelling and Presentation:\n",
        "\n",
        "\n",
        "vi) Customization and Theming:\n",
        "\n",
        "\n",
        "vii) Matrix Visualization:\n",
        "\n"
      ],
      "metadata": {
        "id": "blCGO68UdWFY"
      }
    }
  ]
}